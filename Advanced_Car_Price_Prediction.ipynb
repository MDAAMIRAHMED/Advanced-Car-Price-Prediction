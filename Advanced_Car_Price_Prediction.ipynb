{
  "nbformat": 4,
  "nbformat_minor": 0,
  "metadata": {
    "colab": {
      "provenance": [],
      "authorship_tag": "ABX9TyOtV1YiOF4kGAi+kQhZlGDi"
    },
    "kernelspec": {
      "name": "python3",
      "display_name": "Python 3"
    },
    "language_info": {
      "name": "python"
    }
  },
  "cells": [
    {
      "cell_type": "code",
      "execution_count": 1,
      "metadata": {
        "id": "8ZSeERHIUBFa"
      },
      "outputs": [],
      "source": [
        "#importing the dependencies\n",
        "import pandas as pd\n",
        "import numpy as np\n",
        "from sklearn.model_selection import train_test_split\n",
        "from sklearn.preprocessing import StandardScaler\n",
        "from sklearn.ensemble import RandomForestRegressor\n",
        "from sklearn.metrics import mean_squared_error, r2_score\n",
        "import tensorflow as tf\n",
        "from tensorflow.keras.models import Sequential\n",
        "from tensorflow.keras.layers import Dense\n",
        "import joblib\n",
        "from flask import Flask, request, jsonify"
      ]
    },
    {
      "cell_type": "code",
      "source": [
        "# Load and preprocess the dataset\n",
        "def load_and_preprocess_data():\n",
        "    df = pd.read_csv('/content/car data.csv')\n",
        "\n",
        "    # Feature Engineering\n",
        "    df['Age'] = 2024 - df['Year']\n",
        "    df = df.drop(['Year', 'Car_Name'], axis=1)\n",
        "\n",
        "    # One-Hot Encoding\n",
        "    df = pd.get_dummies(df, columns=['Fuel_Type', 'Selling_type', 'Transmission'], drop_first=True)\n",
        "\n",
        "    # Features and target\n",
        "    X = df.drop('Selling_Price', axis=1)\n",
        "    y = df['Selling_Price']\n",
        "\n",
        "    # Train-Test Split\n",
        "    X_train, X_test, y_train, y_test = train_test_split(X, y, test_size=0.2, random_state=42)\n",
        "\n",
        "    # Scale features\n",
        "    scaler = StandardScaler()\n",
        "    X_train_scaled = scaler.fit_transform(X_train)\n",
        "    X_test_scaled = scaler.transform(X_test)\n",
        "\n",
        "    return X_train_scaled, X_test_scaled, y_train, y_test"
      ],
      "metadata": {
        "id": "km_zz0HTUIg9"
      },
      "execution_count": 2,
      "outputs": []
    },
    {
      "cell_type": "code",
      "source": [
        "# Train Random Forest Model\n",
        "def train_random_forest(X_train, y_train):\n",
        "    rf = RandomForestRegressor(n_estimators=100, max_depth=20, min_samples_split=5)\n",
        "    rf.fit(X_train, y_train)\n",
        "    return rf"
      ],
      "metadata": {
        "id": "vc3OblOyUZg6"
      },
      "execution_count": 3,
      "outputs": []
    },
    {
      "cell_type": "code",
      "source": [
        "# Train Neural Network Model\n",
        "def train_neural_network(X_train, y_train):\n",
        "    model = Sequential([\n",
        "        Dense(128, activation='relu', input_shape=(X_train.shape[1],)),\n",
        "        Dense(128, activation='relu'),\n",
        "        Dense(1)\n",
        "    ])\n",
        "    model.compile(optimizer='adam', loss='mean_squared_error')\n",
        "    model.fit(X_train, y_train, epochs=100, validation_split=0.2, verbose=0)\n",
        "    return model"
      ],
      "metadata": {
        "id": "GvLQho_MUgnC"
      },
      "execution_count": 4,
      "outputs": []
    },
    {
      "cell_type": "code",
      "source": [
        "# Evaluate Model\n",
        "def evaluate_model(model, X_test, y_test):\n",
        "    y_pred = model.predict(X_test) if hasattr(model, 'predict') else model.predict(X_test)\n",
        "    mse = mean_squared_error(y_test, y_pred)\n",
        "    r2 = r2_score(y_test, y_pred)\n",
        "    return mse, r2"
      ],
      "metadata": {
        "id": "FEXwmbN7WTO-"
      },
      "execution_count": 5,
      "outputs": []
    },
    {
      "cell_type": "code",
      "source": [
        "# Save models\n",
        "def save_models(rf, nn_model):\n",
        "    joblib.dump(rf, 'random_forest_model.pkl')\n",
        "    nn_model.save('neural_network_model.h5')"
      ],
      "metadata": {
        "id": "LJ9XVRkSWWlT"
      },
      "execution_count": 6,
      "outputs": []
    },
    {
      "cell_type": "code",
      "source": [
        "def predict():\n",
        "    data = request.json\n",
        "    features = [data['Present_Price'], data['Driven_kms'], data['Age'], data['Fuel_Type'], data['Selling_type'], data['Transmission'], data['Owner']]\n",
        "\n",
        "    rf = joblib.load('random_forest_model.pkl')\n",
        "    nn_model = tf.keras.models.load_model('neural_network_model.h5')\n",
        "\n",
        "    # Feature scaling for API prediction\n",
        "    scaler = StandardScaler()\n",
        "    features_scaled = scaler.fit_transform([features])\n",
        "\n",
        "    rf_prediction = rf.predict(features_scaled)\n",
        "    nn_prediction = nn_model.predict(features_scaled)[0][0]\n",
        "\n",
        "    return jsonify({'Random_Forest_Prediction': rf_prediction[0], 'Neural_Network_Prediction': nn_prediction})\n"
      ],
      "metadata": {
        "id": "b1eOK3gpWknJ"
      },
      "execution_count": 7,
      "outputs": []
    },
    {
      "cell_type": "code",
      "source": [
        "X_train, X_test, y_train, y_test = load_and_preprocess_data()\n",
        "\n",
        "rf_model = train_random_forest(X_train, y_train)\n",
        "nn_model = train_neural_network(X_train, y_train)\n",
        "\n",
        "rf_mse, rf_r2 = evaluate_model(rf_model, X_test, y_test)\n",
        "nn_mse, nn_r2 = evaluate_model(nn_model, X_test, y_test)\n",
        "\n",
        "print(f\"Random Forest MSE: {rf_mse}, R-squared: {rf_r2}\")\n",
        "print(f\"Neural Network MSE: {nn_mse}, R-squared: {nn_r2}\")\n",
        "\n",
        "save_models(rf_model, nn_model)"
      ],
      "metadata": {
        "colab": {
          "base_uri": "https://localhost:8080/"
        },
        "id": "296BKVV4WpNS",
        "outputId": "052dec99-8d00-418a-ed61-ee1011ffda97"
      },
      "execution_count": 8,
      "outputs": [
        {
          "output_type": "stream",
          "name": "stderr",
          "text": [
            "/usr/local/lib/python3.10/dist-packages/keras/src/layers/core/dense.py:87: UserWarning: Do not pass an `input_shape`/`input_dim` argument to a layer. When using Sequential models, prefer using an `Input(shape)` object as the first layer in the model instead.\n",
            "  super().__init__(activity_regularizer=activity_regularizer, **kwargs)\n"
          ]
        },
        {
          "output_type": "stream",
          "name": "stdout",
          "text": [
            "\u001b[1m2/2\u001b[0m \u001b[32m━━━━━━━━━━━━━━━━━━━━\u001b[0m\u001b[37m\u001b[0m \u001b[1m0s\u001b[0m 37ms/step\n"
          ]
        },
        {
          "output_type": "stream",
          "name": "stderr",
          "text": [
            "WARNING:absl:You are saving your model as an HDF5 file via `model.save()` or `keras.saving.save_model(model)`. This file format is considered legacy. We recommend using instead the native Keras format, e.g. `model.save('my_model.keras')` or `keras.saving.save_model(model, 'my_model.keras')`. \n"
          ]
        },
        {
          "output_type": "stream",
          "name": "stdout",
          "text": [
            "Random Forest MSE: 0.8230215545485504, R-squared: 0.9642717312502482\n",
            "Neural Network MSE: 0.6089118576596254, R-squared: 0.973566468125726\n"
          ]
        }
      ]
    },
    {
      "cell_type": "code",
      "source": [],
      "metadata": {
        "id": "N524-TQEWr9r"
      },
      "execution_count": null,
      "outputs": []
    }
  ]
}